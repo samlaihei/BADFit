{
 "cells": [
  {
   "cell_type": "markdown",
   "id": "9b97ee5b-21f8-4055-b216-0c1dcc7e62ae",
   "metadata": {
    "tags": []
   },
   "source": [
    "\n",
    "# BADFit\n",
    "This is a tutorial notebook for __[BADFit](https://github.com/samlaihei/BADFit)__, a code for fitting black hole accretion discs with Sherpa/XSpec. The key features of this code are:\n",
    "-  PLACEHOLDER\n",
    "\n",
    "### Installation\n",
    "The recommended installation method is to use conda virtual environments. This section will guide the user through the basic installation steps which should work for most machines. Navigate to your designated installation directory and run in the terminal,\n",
    "```\n",
    "git clone https://github.com/samlaihei/PyQSpecFit.git\n",
    "cd PyQSpecFit\n",
    "conda env create -f environment.yml\n",
    "```\n",
    "Blah\n",
    "\n",
    "\n",
    "### Features \n",
    "-  PLACEHOLDER\n",
    "\n",
    "### Authors\n",
    "__[Samuel Lai](https://orcid.org/0000-0001-9372-4611)__; samuel.lai(at)anu.edu.au (Australian National University)\n",
    "\n",
    "### Acknowledgements\n",
    "If you found this code useful in any capacity, we would appreciate it if you could cite us. Please refer to the __[README.md](https://github.com/samlaihei/BADFit)__ in the repository for the most up-to-date citation.\n",
    "\n",
    "\n",
    "### General Usage Procedure\n",
    "1. PLACEHOLDER\n",
    "\n",
    "\n",
    "## Getting Started\n",
    "\n"
   ]
  },
  {
   "cell_type": "code",
   "execution_count": null,
   "id": "765aabec-0a97-457f-a1e0-0238c8c6320d",
   "metadata": {},
   "outputs": [],
   "source": []
  }
 ],
 "metadata": {
  "kernelspec": {
   "display_name": "PyQSOFit",
   "language": "python",
   "name": "pyqsofit"
  },
  "language_info": {
   "codemirror_mode": {
    "name": "ipython",
    "version": 3
   },
   "file_extension": ".py",
   "mimetype": "text/x-python",
   "name": "python",
   "nbconvert_exporter": "python",
   "pygments_lexer": "ipython3",
   "version": "3.6.13"
  }
 },
 "nbformat": 4,
 "nbformat_minor": 5
}
